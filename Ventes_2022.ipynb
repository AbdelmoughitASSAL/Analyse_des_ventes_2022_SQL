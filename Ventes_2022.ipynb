{
 "cells": [
  {
   "cell_type": "markdown",
   "metadata": {},
   "source": [
    "# **Analyse des ventes 2022 : Tableau de bord Power BI** "
   ]
  },
  {
   "cell_type": "markdown",
   "metadata": {},
   "source": [
    "**0 - Importation des bibliothèques pour l'analyse de données et la visualisation**"
   ]
  },
  {
   "cell_type": "code",
   "execution_count": 2,
   "metadata": {},
   "outputs": [],
   "source": [
    "import pyodbc\n",
    "import pandas as pd\n",
    "from sqlalchemy import create_engine\n"
   ]
  },
  {
   "cell_type": "markdown",
   "metadata": {},
   "source": [
    "**1 - Connexion à SQL Server , Chargement et Exploration Initiale des Données**"
   ]
  },
  {
   "cell_type": "code",
   "execution_count": 4,
   "metadata": {},
   "outputs": [],
   "source": [
    "# Définir les paramètres de connexion\n",
    "server = \"DESKTOP-2546E\\\\SQLEXPRESS\" # Remplace par le nom de SERVER\n",
    "database = \"POWER_BI\"\n",
    "\n",
    "# Connexion via SQLAlchemy\n",
    "engine = create_engine(f\"mssql+pyodbc://{server}/{database}?trusted_connection=yes&driver=ODBC+Driver+17+for+SQL+Server\")\n",
    "\n",
    "# Lire les données de la vue ViewSales\n",
    "query = \"SELECT * FROM ViewSales\"\n",
    "df = pd.read_sql(query, engine)\n",
    "\n",
    "# Afficher les premières lignes\n",
    "#print(df.head())"
   ]
  }
 ],
 "metadata": {
  "kernelspec": {
   "display_name": "Python 3",
   "language": "python",
   "name": "python3"
  },
  "language_info": {
   "codemirror_mode": {
    "name": "ipython",
    "version": 3
   },
   "file_extension": ".py",
   "mimetype": "text/x-python",
   "name": "python",
   "nbconvert_exporter": "python",
   "pygments_lexer": "ipython3",
   "version": "3.12.2"
  }
 },
 "nbformat": 4,
 "nbformat_minor": 2
}
