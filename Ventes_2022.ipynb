{
 "cells": [
  {
   "cell_type": "markdown",
   "metadata": {},
   "source": [
    "# **Analyse des ventes 2022 : Tableau de bord Power BI** "
   ]
  },
  {
   "cell_type": "markdown",
   "metadata": {},
   "source": [
    "**0 - Importation des bibliothèques pour l'analyse de données et la visualisation**"
   ]
  },
  {
   "cell_type": "code",
   "execution_count": 1,
   "metadata": {},
   "outputs": [],
   "source": [
    "import pyodbc\n",
    "import pandas as pd\n",
    "from sqlalchemy import create_engine"
   ]
  },
  {
   "cell_type": "markdown",
   "metadata": {},
   "source": [
    "**1 - Connexion à SQL Server , Chargement et Exploration Initiale des Données**"
   ]
  },
  {
   "cell_type": "code",
   "execution_count": 2,
   "metadata": {},
   "outputs": [],
   "source": [
    "# Définir les paramètres de connexion\n",
    "server = \"DESKTOP-2546E\\\\SQLEXPRESS\" # Remplace par le nom de SERVER\n",
    "database = \"POWER_BI\" # Remplace par le nom de Votre DATABASE\n",
    "\n",
    "# Connexion via SQLAlchemy\n",
    "engine = create_engine(f\"mssql+pyodbc://{server}/{database}?trusted_connection=yes&driver=ODBC+Driver+17+for+SQL+Server\")\n",
    "\n",
    "# Lire les données de la vue ViewSales\n",
    "query = \"SELECT * FROM ViewSales\"\n",
    "df = pd.read_sql(query, engine)\n",
    "\n",
    "# Afficher les premières lignes\n",
    "print(df.head())"
   ]
  },
  {
   "cell_type": "markdown",
   "metadata": {},
   "source": [
    "**2 - Calcule Sales Total, Cost Total et Profit**"
   ]
  },
  {
   "cell_type": "code",
   "execution_count": 20,
   "metadata": {},
   "outputs": [
    {
     "name": "stdout",
     "output_type": "stream",
     "text": [
      "Total des ventes : 95,27 M\n",
      "Coût Total : 66,69 M\n",
      "Profit Total : 28,58 M\n"
     ]
    }
   ],
   "source": [
    "# Calcul du total des ventes, du coût total et du profit\n",
    "Sales_Total = df['TotalSellingPrice'].sum()\n",
    "Cost_Total = df['TotalCostPrice'].sum()\n",
    "Profit_Total = Sales_Total - Cost_Total\n",
    "# Formater les valeurs en millions avec 2 décimales & séparateur décimal\n",
    "Sales_Total_M = f\"{Sales_Total / 1_000_000:.2f}\".replace('.', ',')\n",
    "Cost_Total_M = f\"{Cost_Total / 1_000_000:.2f}\".replace('.', ',')\n",
    "Profit_Total_M = f\"{Profit_Total / 1_000_000:.2f}\".replace('.', ',')\n",
    "# Affichage des résultats\n",
    "print(f\"Total des ventes : {Sales_Total_M} M\")\n",
    "print(f\"Coût Total : {Cost_Total_M} M\")\n",
    "print(f\"Profit Total : {Profit_Total_M} M\")"
   ]
  }
 ],
 "metadata": {
  "kernelspec": {
   "display_name": "Python 3",
   "language": "python",
   "name": "python3"
  },
  "language_info": {
   "codemirror_mode": {
    "name": "ipython",
    "version": 3
   },
   "file_extension": ".py",
   "mimetype": "text/x-python",
   "name": "python",
   "nbconvert_exporter": "python",
   "pygments_lexer": "ipython3",
   "version": "3.12.2"
  }
 },
 "nbformat": 4,
 "nbformat_minor": 2
}
