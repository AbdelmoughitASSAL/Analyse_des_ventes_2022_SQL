{
 "cells": [
  {
   "cell_type": "markdown",
   "metadata": {},
   "source": [
    "# **Analyse des ventes 2022 : Tableau de bord Power BI** "
   ]
  },
  {
   "cell_type": "markdown",
   "metadata": {},
   "source": [
    "**0 - Importation des bibliothèques pour l'analyse de données et la visualisation**"
   ]
  },
  {
   "cell_type": "code",
   "execution_count": 3,
   "metadata": {},
   "outputs": [],
   "source": [
    "import pyodbc\n",
    "import pandas as pd\n",
    "from sqlalchemy import create_engine"
   ]
  },
  {
   "cell_type": "markdown",
   "metadata": {},
   "source": [
    "**1 - Connexion à SQL Server , Chargement et Exploration Initiale des Données**"
   ]
  },
  {
   "cell_type": "code",
   "execution_count": null,
   "metadata": {},
   "outputs": [],
   "source": [
    "# Définir les paramètres de connexion\n",
    "server = \"DESKTOP-2546E\\\\SQLEXPRESS\" # Remplace par le nom de SERVER\n",
    "database = \"POWER_BI\" ##\n",
    "\n",
    "# Connexion via SQLAlchemy\n",
    "engine = create_engine(f\"mssql+pyodbc://{server}/{database}?trusted_connection=yes&driver=ODBC+Driver+17+for+SQL+Server\")\n",
    "\n",
    "# Lire les données de la vue ViewSales\n",
    "query = \"SELECT * FROM ViewSales\"\n",
    "df = pd.read_sql(query, engine)\n"
   ]
  },
  {
   "cell_type": "code",
   "execution_count": 5,
   "metadata": {},
   "outputs": [
    {
     "name": "stdout",
     "output_type": "stream",
     "text": [
      "   Qty  SellingPrice  TotalSellingPrice  CostPrice  TotalCostPrice  \\\n",
      "0  3.0          19.0               57.0       13.3            39.9   \n",
      "1  1.0         260.0              260.0      182.0           182.0   \n",
      "2  1.0         100.0              100.0       70.0            70.0   \n",
      "3  3.0          22.0               66.0       15.4            46.2   \n",
      "4  1.0         182.0              182.0      127.4           127.4   \n",
      "\n",
      "     SaleDate CompanyLocationName UserName      ProductName CategoryName  \n",
      "0  2022-01-29               PARIS  ALIMATH          Chicken         MEAT  \n",
      "1  2022-01-29               PARIS  ALIMATH   Chicken strips      CHICKEN  \n",
      "2  2022-01-29               PARIS  ALIMATH  Chicken pot pie      CHICKEN  \n",
      "3  2022-01-29               PARIS  ALIMATH  Chicken nuggets      CHICKEN  \n",
      "4  2022-01-29               PARIS  ALIMATH           Salmon         FISH  \n"
     ]
    }
   ],
   "source": [
    "# Afficher les premières lignes\n",
    "print(df.head())"
   ]
  },
  {
   "cell_type": "code",
   "execution_count": 33,
   "metadata": {},
   "outputs": [
    {
     "name": "stdout",
     "output_type": "stream",
     "text": [
      "Sales Total : 95266270.5\n",
      "Cost total : 66686389.35000002\n",
      "Profit:28579881.149999984\n"
     ]
    }
   ],
   "source": [
    "# General Analysis\n",
    "Sales_Total = df['TotalSellingPrice'].sum()\n",
    "print(f\"Sales Total : {Sales_Total}\")\n",
    "Cost_Total = df['TotalCostPrice'].sum()\n",
    "print(f\"Cost total : {Cost_Total}\")\n",
    "profit = Sales_Total - Cost_Total\n",
    "print(f\"Profit:{profit}\")"
   ]
  },
  {
   "cell_type": "code",
   "execution_count": 25,
   "metadata": {},
   "outputs": [
    {
     "name": "stdout",
     "output_type": "stream",
     "text": [
      "Voici les branches disponibles :\n",
      "- PARIS\n",
      "- LAGOS\n",
      "- ACCRA\n",
      "- COTONOU\n",
      "- MONROVIA\n",
      "- LOME\n",
      "- ABIDJAN\n",
      "- DOHA\n",
      "- NAIROBI\n"
     ]
    }
   ],
   "source": [
    "#branches = df['CompanyLocationName'].dropna().unique()\n",
    "# Afficher les noms de toutes les colonnes pour identifier celle qui contient les \"branches\"\n",
    "#print(\"Colonnes disponibles :\", df.columns)\n",
    "\n",
    "# Supposons que la colonne s'appelle 'branche' ou quelque chose de similaire\n",
    "#Remplace 'branche' par le nom exact après avoir vu la liste ci-dessus\n",
    "branches = df['CompanyLocationName'].dropna().unique()\n",
    "\n",
    "# Afficher toutes les branches uniques\n",
    "print(\"Voici les branches disponibles :\")\n",
    "for b in branches:\n",
    "    print(\"-\", b)"
   ]
  },
  {
   "cell_type": "code",
   "execution_count": 45,
   "metadata": {},
   "outputs": [
    {
     "name": "stdout",
     "output_type": "stream",
     "text": [
      "Sales Total : 95266270.50\n",
      "Paris Sales : 24713536.50 (25.94%)\n",
      "Lagos Sales : 17709780.00 (18.59%)\n"
     ]
    }
   ],
   "source": [
    "#Sales by branches\n",
    "Paris_sales = df[df['CompanyLocationName'] == 'PARIS']['TotalSellingPrice'].sum()\n",
    "Paris_Percent = (Paris_sales / Sales_Total) * 100 if Sales_Total > 0 else 0\n",
    "Lagos_sales = df[df['CompanyLocationName']== 'LAGOS']['TotalSellingPrice'].sum()\n",
    "Lagos_Percent = (Lagos_sales / Sales_Total ) * 100 if Sales_Total > 0 else 0\n",
    "\n",
    "print(f\"Sales Total : {Sales_Total:.2f}\")\n",
    "print(f\"Paris Sales : {Paris_sales:.2f} ({Paris_Percent:.2f}%)\")\n",
    "print(f\"Lagos Sales : {Lagos_sales:.2f} ({Lagos_Percent:.2f}%)\")"
   ]
  }
 ],
 "metadata": {
  "kernelspec": {
   "display_name": "Python 3",
   "language": "python",
   "name": "python3"
  },
  "language_info": {
   "codemirror_mode": {
    "name": "ipython",
    "version": 3
   },
   "file_extension": ".py",
   "mimetype": "text/x-python",
   "name": "python",
   "nbconvert_exporter": "python",
   "pygments_lexer": "ipython3",
   "version": "3.12.2"
  }
 },
 "nbformat": 4,
 "nbformat_minor": 2
}
